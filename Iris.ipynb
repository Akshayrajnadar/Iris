{
  "nbformat": 4,
  "nbformat_minor": 0,
  "metadata": {
    "colab": {
      "provenance": [],
      "gpuType": "T4",
      "authorship_tag": "ABX9TyMd90j2yrP8Oj/ARmcshldF",
      "include_colab_link": true
    },
    "kernelspec": {
      "name": "python3",
      "display_name": "Python 3"
    },
    "language_info": {
      "name": "python"
    },
    "accelerator": "GPU",
    "gpuClass": "standard"
  },
  "cells": [
    {
      "cell_type": "markdown",
      "metadata": {
        "id": "view-in-github",
        "colab_type": "text"
      },
      "source": [
        "<a href=\"https://colab.research.google.com/github/Akshayrajnadar/Iris/blob/master/Iris.ipynb\" target=\"_parent\"><img src=\"https://colab.research.google.com/assets/colab-badge.svg\" alt=\"Open In Colab\"/></a>"
      ]
    },
    {
      "cell_type": "markdown",
      "source": [
        "#Iris dataset\n",
        "The Iris Dataset contains four features (length and width of sepals and petals) of 50 samples of three species of Iris (Iris setosa, Iris virginica and Iris versicolor). Here we are going to make a model which will predict the specised of the Iris flower using the four perameters provided. First we will import all the required libraries and the we will clean the data."
      ],
      "metadata": {
        "id": "C_Rl-UepsJHl"
      }
    },
    {
      "cell_type": "code",
      "execution_count": null,
      "metadata": {
        "id": "J4pVmS8ROViu"
      },
      "outputs": [],
      "source": [
        "import numpy as np\n",
        "import pandas as pd\n",
        "\n",
        "import tensorflow as tf\n",
        "from sklearn.model_selection import train_test_split\n",
        "from tensorflow.keras import datasets, layers, models\n",
        "from sklearn.preprocessing import MinMaxScaler\n",
        "import keras\n",
        "from keras.models import Sequential\n",
        "from keras.utils import np_utils\n",
        "from keras.layers import Dense , Input\n",
        "from keras.layers import LSTM\n",
        "import matplotlib.pyplot as plt\n",
        "import seaborn as sns"
      ]
    },
    {
      "cell_type": "markdown",
      "source": [
        "#Importing the dataset"
      ],
      "metadata": {
        "id": "j34UfNB5sTat"
      }
    },
    {
      "cell_type": "code",
      "source": [
        "training_data = pd.read_csv('/content/Iris.csv')"
      ],
      "metadata": {
        "id": "OZaqJuhQJmpQ"
      },
      "execution_count": null,
      "outputs": []
    },
    {
      "cell_type": "code",
      "source": [
        "training_data[\"Species\"].value_counts()"
      ],
      "metadata": {
        "colab": {
          "base_uri": "https://localhost:8080/"
        },
        "id": "6YuzD705oM9U",
        "outputId": "f8ef0fbc-c7b1-4bf1-ff19-7b6c05670797"
      },
      "execution_count": null,
      "outputs": [
        {
          "output_type": "execute_result",
          "data": {
            "text/plain": [
              "Iris-setosa        50\n",
              "Iris-versicolor    50\n",
              "Iris-virginica     50\n",
              "Name: Species, dtype: int64"
            ]
          },
          "metadata": {},
          "execution_count": 3
        }
      ]
    },
    {
      "cell_type": "code",
      "source": [
        "training_data.dtypes"
      ],
      "metadata": {
        "colab": {
          "base_uri": "https://localhost:8080/"
        },
        "id": "GF-9EME7bdxn",
        "outputId": "6ed7b1a1-1c66-4199-8dfa-1180255ffcc6"
      },
      "execution_count": null,
      "outputs": [
        {
          "output_type": "execute_result",
          "data": {
            "text/plain": [
              "Id                 int64\n",
              "SepalLengthCm    float64\n",
              "SepalWidthCm     float64\n",
              "PetalLengthCm    float64\n",
              "PetalWidthCm     float64\n",
              "Species           object\n",
              "dtype: object"
            ]
          },
          "metadata": {},
          "execution_count": 4
        }
      ]
    },
    {
      "cell_type": "code",
      "source": [
        "training_data.head()"
      ],
      "metadata": {
        "colab": {
          "base_uri": "https://localhost:8080/",
          "height": 206
        },
        "id": "4yaAZA8KJ2jm",
        "outputId": "145a8607-3bed-4d7a-c44d-70d4d865d60f"
      },
      "execution_count": null,
      "outputs": [
        {
          "output_type": "execute_result",
          "data": {
            "text/plain": [
              "   Id  SepalLengthCm  SepalWidthCm  PetalLengthCm  PetalWidthCm      Species\n",
              "0   1            5.1           3.5            1.4           0.2  Iris-setosa\n",
              "1   2            4.9           3.0            1.4           0.2  Iris-setosa\n",
              "2   3            4.7           3.2            1.3           0.2  Iris-setosa\n",
              "3   4            4.6           3.1            1.5           0.2  Iris-setosa\n",
              "4   5            5.0           3.6            1.4           0.2  Iris-setosa"
            ],
            "text/html": [
              "\n",
              "  <div id=\"df-80b035fc-53cd-4129-b883-b98de7859cef\">\n",
              "    <div class=\"colab-df-container\">\n",
              "      <div>\n",
              "<style scoped>\n",
              "    .dataframe tbody tr th:only-of-type {\n",
              "        vertical-align: middle;\n",
              "    }\n",
              "\n",
              "    .dataframe tbody tr th {\n",
              "        vertical-align: top;\n",
              "    }\n",
              "\n",
              "    .dataframe thead th {\n",
              "        text-align: right;\n",
              "    }\n",
              "</style>\n",
              "<table border=\"1\" class=\"dataframe\">\n",
              "  <thead>\n",
              "    <tr style=\"text-align: right;\">\n",
              "      <th></th>\n",
              "      <th>Id</th>\n",
              "      <th>SepalLengthCm</th>\n",
              "      <th>SepalWidthCm</th>\n",
              "      <th>PetalLengthCm</th>\n",
              "      <th>PetalWidthCm</th>\n",
              "      <th>Species</th>\n",
              "    </tr>\n",
              "  </thead>\n",
              "  <tbody>\n",
              "    <tr>\n",
              "      <th>0</th>\n",
              "      <td>1</td>\n",
              "      <td>5.1</td>\n",
              "      <td>3.5</td>\n",
              "      <td>1.4</td>\n",
              "      <td>0.2</td>\n",
              "      <td>Iris-setosa</td>\n",
              "    </tr>\n",
              "    <tr>\n",
              "      <th>1</th>\n",
              "      <td>2</td>\n",
              "      <td>4.9</td>\n",
              "      <td>3.0</td>\n",
              "      <td>1.4</td>\n",
              "      <td>0.2</td>\n",
              "      <td>Iris-setosa</td>\n",
              "    </tr>\n",
              "    <tr>\n",
              "      <th>2</th>\n",
              "      <td>3</td>\n",
              "      <td>4.7</td>\n",
              "      <td>3.2</td>\n",
              "      <td>1.3</td>\n",
              "      <td>0.2</td>\n",
              "      <td>Iris-setosa</td>\n",
              "    </tr>\n",
              "    <tr>\n",
              "      <th>3</th>\n",
              "      <td>4</td>\n",
              "      <td>4.6</td>\n",
              "      <td>3.1</td>\n",
              "      <td>1.5</td>\n",
              "      <td>0.2</td>\n",
              "      <td>Iris-setosa</td>\n",
              "    </tr>\n",
              "    <tr>\n",
              "      <th>4</th>\n",
              "      <td>5</td>\n",
              "      <td>5.0</td>\n",
              "      <td>3.6</td>\n",
              "      <td>1.4</td>\n",
              "      <td>0.2</td>\n",
              "      <td>Iris-setosa</td>\n",
              "    </tr>\n",
              "  </tbody>\n",
              "</table>\n",
              "</div>\n",
              "      <button class=\"colab-df-convert\" onclick=\"convertToInteractive('df-80b035fc-53cd-4129-b883-b98de7859cef')\"\n",
              "              title=\"Convert this dataframe to an interactive table.\"\n",
              "              style=\"display:none;\">\n",
              "        \n",
              "  <svg xmlns=\"http://www.w3.org/2000/svg\" height=\"24px\"viewBox=\"0 0 24 24\"\n",
              "       width=\"24px\">\n",
              "    <path d=\"M0 0h24v24H0V0z\" fill=\"none\"/>\n",
              "    <path d=\"M18.56 5.44l.94 2.06.94-2.06 2.06-.94-2.06-.94-.94-2.06-.94 2.06-2.06.94zm-11 1L8.5 8.5l.94-2.06 2.06-.94-2.06-.94L8.5 2.5l-.94 2.06-2.06.94zm10 10l.94 2.06.94-2.06 2.06-.94-2.06-.94-.94-2.06-.94 2.06-2.06.94z\"/><path d=\"M17.41 7.96l-1.37-1.37c-.4-.4-.92-.59-1.43-.59-.52 0-1.04.2-1.43.59L10.3 9.45l-7.72 7.72c-.78.78-.78 2.05 0 2.83L4 21.41c.39.39.9.59 1.41.59.51 0 1.02-.2 1.41-.59l7.78-7.78 2.81-2.81c.8-.78.8-2.07 0-2.86zM5.41 20L4 18.59l7.72-7.72 1.47 1.35L5.41 20z\"/>\n",
              "  </svg>\n",
              "      </button>\n",
              "      \n",
              "  <style>\n",
              "    .colab-df-container {\n",
              "      display:flex;\n",
              "      flex-wrap:wrap;\n",
              "      gap: 12px;\n",
              "    }\n",
              "\n",
              "    .colab-df-convert {\n",
              "      background-color: #E8F0FE;\n",
              "      border: none;\n",
              "      border-radius: 50%;\n",
              "      cursor: pointer;\n",
              "      display: none;\n",
              "      fill: #1967D2;\n",
              "      height: 32px;\n",
              "      padding: 0 0 0 0;\n",
              "      width: 32px;\n",
              "    }\n",
              "\n",
              "    .colab-df-convert:hover {\n",
              "      background-color: #E2EBFA;\n",
              "      box-shadow: 0px 1px 2px rgba(60, 64, 67, 0.3), 0px 1px 3px 1px rgba(60, 64, 67, 0.15);\n",
              "      fill: #174EA6;\n",
              "    }\n",
              "\n",
              "    [theme=dark] .colab-df-convert {\n",
              "      background-color: #3B4455;\n",
              "      fill: #D2E3FC;\n",
              "    }\n",
              "\n",
              "    [theme=dark] .colab-df-convert:hover {\n",
              "      background-color: #434B5C;\n",
              "      box-shadow: 0px 1px 3px 1px rgba(0, 0, 0, 0.15);\n",
              "      filter: drop-shadow(0px 1px 2px rgba(0, 0, 0, 0.3));\n",
              "      fill: #FFFFFF;\n",
              "    }\n",
              "  </style>\n",
              "\n",
              "      <script>\n",
              "        const buttonEl =\n",
              "          document.querySelector('#df-80b035fc-53cd-4129-b883-b98de7859cef button.colab-df-convert');\n",
              "        buttonEl.style.display =\n",
              "          google.colab.kernel.accessAllowed ? 'block' : 'none';\n",
              "\n",
              "        async function convertToInteractive(key) {\n",
              "          const element = document.querySelector('#df-80b035fc-53cd-4129-b883-b98de7859cef');\n",
              "          const dataTable =\n",
              "            await google.colab.kernel.invokeFunction('convertToInteractive',\n",
              "                                                     [key], {});\n",
              "          if (!dataTable) return;\n",
              "\n",
              "          const docLinkHtml = 'Like what you see? Visit the ' +\n",
              "            '<a target=\"_blank\" href=https://colab.research.google.com/notebooks/data_table.ipynb>data table notebook</a>'\n",
              "            + ' to learn more about interactive tables.';\n",
              "          element.innerHTML = '';\n",
              "          dataTable['output_type'] = 'display_data';\n",
              "          await google.colab.output.renderOutput(dataTable, element);\n",
              "          const docLink = document.createElement('div');\n",
              "          docLink.innerHTML = docLinkHtml;\n",
              "          element.appendChild(docLink);\n",
              "        }\n",
              "      </script>\n",
              "    </div>\n",
              "  </div>\n",
              "  "
            ]
          },
          "metadata": {},
          "execution_count": 5
        }
      ]
    },
    {
      "cell_type": "markdown",
      "source": [
        "#Dividing the dataset\n",
        "Here we are going to devide the datset into input data and output data or labels. For the input data or X we are going to drop the Species colum and the Id columns and for the output data or Y we will only keep the Species column."
      ],
      "metadata": {
        "id": "vuImzxIUsZ-l"
      }
    },
    {
      "cell_type": "code",
      "source": [
        "# X = training_data.drop(['Species'], axis = 1)\n",
        "# X = X.drop(['Id'], axis = 1)\n",
        "X = training_data.drop(['Species', 'Id'], axis = 1)\n",
        "\n",
        "print(X)"
      ],
      "metadata": {
        "colab": {
          "base_uri": "https://localhost:8080/"
        },
        "id": "aMKDVFu8KnWn",
        "outputId": "c9be364c-edff-4205-ba19-b9da13e10e1b"
      },
      "execution_count": null,
      "outputs": [
        {
          "output_type": "stream",
          "name": "stdout",
          "text": [
            "     SepalLengthCm  SepalWidthCm  PetalLengthCm  PetalWidthCm\n",
            "0              5.1           3.5            1.4           0.2\n",
            "1              4.9           3.0            1.4           0.2\n",
            "2              4.7           3.2            1.3           0.2\n",
            "3              4.6           3.1            1.5           0.2\n",
            "4              5.0           3.6            1.4           0.2\n",
            "..             ...           ...            ...           ...\n",
            "145            6.7           3.0            5.2           2.3\n",
            "146            6.3           2.5            5.0           1.9\n",
            "147            6.5           3.0            5.2           2.0\n",
            "148            6.2           3.4            5.4           2.3\n",
            "149            5.9           3.0            5.1           1.8\n",
            "\n",
            "[150 rows x 4 columns]\n"
          ]
        }
      ]
    },
    {
      "cell_type": "markdown",
      "source": [
        "#Making the string to int\n",
        "In the output data or Y the data is in string format but our model cannot predict it in the srting format so we have to change the data into integer for using map. So, there are total three categories of Iris in this dataset and we will name it as 1 for Iris-setosa, 2 for Iris-versicolor and 3 for Iris-virginica."
      ],
      "metadata": {
        "id": "tPLQNdHjtCvR"
      }
    },
    {
      "cell_type": "code",
      "source": [
        "Y = training_data['Species']\n",
        "Y = Y.map({'Iris-setosa': 1, 'Iris-versicolor': 2, 'Iris-virginica': 3}).astype(str).astype(int)\n",
        "# Y[\"Species\"] = Y[\"Species\"].astype(str).astype(int)\n",
        "# Y = np_utils.to_categorical(training_data['Species'],num_classes=3)\n",
        "print(Y)"
      ],
      "metadata": {
        "colab": {
          "base_uri": "https://localhost:8080/"
        },
        "id": "ROCq4EahLZT9",
        "outputId": "e71885a3-3421-4b24-f238-7e48fe4e832e"
      },
      "execution_count": null,
      "outputs": [
        {
          "output_type": "stream",
          "name": "stdout",
          "text": [
            "0      1\n",
            "1      1\n",
            "2      1\n",
            "3      1\n",
            "4      1\n",
            "      ..\n",
            "145    3\n",
            "146    3\n",
            "147    3\n",
            "148    3\n",
            "149    3\n",
            "Name: Species, Length: 150, dtype: int64\n"
          ]
        }
      ]
    },
    {
      "cell_type": "code",
      "source": [
        "Y.unique()"
      ],
      "metadata": {
        "colab": {
          "base_uri": "https://localhost:8080/"
        },
        "id": "DqYL6RkJ0MyS",
        "outputId": "9fde18b7-6eb6-4c1c-c57a-67bd1fa40f72"
      },
      "execution_count": null,
      "outputs": [
        {
          "output_type": "execute_result",
          "data": {
            "text/plain": [
              "array([1, 2, 3])"
            ]
          },
          "metadata": {},
          "execution_count": 8
        }
      ]
    },
    {
      "cell_type": "markdown",
      "source": [
        "# Training data and Test data split\n",
        "Here we will splite the dataset into two parts the traing data which is X_train and Y_train and the testing data which is X_test and Y_test. The data will be splitted in the ratio of 7:3."
      ],
      "metadata": {
        "id": "9c2RtFh8uFoj"
      }
    },
    {
      "cell_type": "code",
      "source": [
        "X_train, X_test , Y_train, Y_test = train_test_split(X, Y, test_size=0.3)"
      ],
      "metadata": {
        "id": "rVh8pMrZLvtq"
      },
      "execution_count": null,
      "outputs": []
    },
    {
      "cell_type": "code",
      "source": [
        "Y_train.shape"
      ],
      "metadata": {
        "colab": {
          "base_uri": "https://localhost:8080/"
        },
        "id": "Zx1SctLizViB",
        "outputId": "1119e25c-3967-43ab-b5aa-d7899a970b66"
      },
      "execution_count": null,
      "outputs": [
        {
          "output_type": "execute_result",
          "data": {
            "text/plain": [
              "(105,)"
            ]
          },
          "metadata": {},
          "execution_count": 10
        }
      ]
    },
    {
      "cell_type": "code",
      "source": [
        "print(Y_train)"
      ],
      "metadata": {
        "colab": {
          "base_uri": "https://localhost:8080/"
        },
        "id": "EMPmwRXNKS0t",
        "outputId": "9cba05d4-de4f-432b-96e6-aefc1f820122"
      },
      "execution_count": null,
      "outputs": [
        {
          "output_type": "stream",
          "name": "stdout",
          "text": [
            "136    3\n",
            "108    3\n",
            "42     1\n",
            "134    3\n",
            "73     2\n",
            "      ..\n",
            "51     2\n",
            "100    3\n",
            "125    3\n",
            "146    3\n",
            "127    3\n",
            "Name: Species, Length: 105, dtype: int64\n"
          ]
        }
      ]
    },
    {
      "cell_type": "markdown",
      "source": [
        "# np_utils.to_categotical\n",
        "Keras provides numpy utility library, which provides functions to perform actions on numpy arrays. Using the method to_categorical(), a numpy array (or) a vector which has integers that represent different categories, can be converted into a numpy array (or) a matrix which has binary values and has columns equal to the number of categories in the data."
      ],
      "metadata": {
        "id": "-ZV5BGsou_t5"
      }
    },
    {
      "cell_type": "code",
      "source": [
        "Y_train = np_utils.to_categorical(Y_train,num_classes=4)\n",
        "print(Y_train)"
      ],
      "metadata": {
        "colab": {
          "base_uri": "https://localhost:8080/"
        },
        "id": "QIoJysJSJuXS",
        "outputId": "158349de-ae53-457c-dbcb-206637aa879a"
      },
      "execution_count": null,
      "outputs": [
        {
          "output_type": "stream",
          "name": "stdout",
          "text": [
            "[[0. 0. 0. 1.]\n",
            " [0. 0. 0. 1.]\n",
            " [0. 1. 0. 0.]\n",
            " [0. 0. 0. 1.]\n",
            " [0. 0. 1. 0.]\n",
            " [0. 0. 1. 0.]\n",
            " [0. 1. 0. 0.]\n",
            " [0. 0. 1. 0.]\n",
            " [0. 0. 0. 1.]\n",
            " [0. 0. 0. 1.]\n",
            " [0. 1. 0. 0.]\n",
            " [0. 1. 0. 0.]\n",
            " [0. 1. 0. 0.]\n",
            " [0. 1. 0. 0.]\n",
            " [0. 1. 0. 0.]\n",
            " [0. 0. 1. 0.]\n",
            " [0. 0. 0. 1.]\n",
            " [0. 0. 1. 0.]\n",
            " [0. 0. 1. 0.]\n",
            " [0. 1. 0. 0.]\n",
            " [0. 0. 1. 0.]\n",
            " [0. 0. 1. 0.]\n",
            " [0. 0. 0. 1.]\n",
            " [0. 0. 0. 1.]\n",
            " [0. 0. 0. 1.]\n",
            " [0. 0. 1. 0.]\n",
            " [0. 1. 0. 0.]\n",
            " [0. 0. 1. 0.]\n",
            " [0. 1. 0. 0.]\n",
            " [0. 1. 0. 0.]\n",
            " [0. 0. 0. 1.]\n",
            " [0. 0. 1. 0.]\n",
            " [0. 1. 0. 0.]\n",
            " [0. 0. 1. 0.]\n",
            " [0. 1. 0. 0.]\n",
            " [0. 0. 1. 0.]\n",
            " [0. 0. 1. 0.]\n",
            " [0. 0. 1. 0.]\n",
            " [0. 0. 0. 1.]\n",
            " [0. 0. 0. 1.]\n",
            " [0. 1. 0. 0.]\n",
            " [0. 0. 1. 0.]\n",
            " [0. 1. 0. 0.]\n",
            " [0. 0. 1. 0.]\n",
            " [0. 1. 0. 0.]\n",
            " [0. 1. 0. 0.]\n",
            " [0. 0. 0. 1.]\n",
            " [0. 0. 0. 1.]\n",
            " [0. 0. 0. 1.]\n",
            " [0. 0. 0. 1.]\n",
            " [0. 0. 0. 1.]\n",
            " [0. 0. 1. 0.]\n",
            " [0. 1. 0. 0.]\n",
            " [0. 0. 1. 0.]\n",
            " [0. 0. 1. 0.]\n",
            " [0. 1. 0. 0.]\n",
            " [0. 0. 0. 1.]\n",
            " [0. 0. 1. 0.]\n",
            " [0. 0. 0. 1.]\n",
            " [0. 0. 0. 1.]\n",
            " [0. 1. 0. 0.]\n",
            " [0. 0. 0. 1.]\n",
            " [0. 1. 0. 0.]\n",
            " [0. 1. 0. 0.]\n",
            " [0. 1. 0. 0.]\n",
            " [0. 0. 0. 1.]\n",
            " [0. 0. 0. 1.]\n",
            " [0. 0. 1. 0.]\n",
            " [0. 0. 0. 1.]\n",
            " [0. 0. 0. 1.]\n",
            " [0. 1. 0. 0.]\n",
            " [0. 0. 1. 0.]\n",
            " [0. 0. 0. 1.]\n",
            " [0. 0. 0. 1.]\n",
            " [0. 1. 0. 0.]\n",
            " [0. 0. 1. 0.]\n",
            " [0. 0. 0. 1.]\n",
            " [0. 0. 1. 0.]\n",
            " [0. 1. 0. 0.]\n",
            " [0. 1. 0. 0.]\n",
            " [0. 1. 0. 0.]\n",
            " [0. 0. 0. 1.]\n",
            " [0. 0. 1. 0.]\n",
            " [0. 1. 0. 0.]\n",
            " [0. 0. 1. 0.]\n",
            " [0. 0. 1. 0.]\n",
            " [0. 0. 1. 0.]\n",
            " [0. 0. 1. 0.]\n",
            " [0. 1. 0. 0.]\n",
            " [0. 0. 1. 0.]\n",
            " [0. 1. 0. 0.]\n",
            " [0. 0. 1. 0.]\n",
            " [0. 1. 0. 0.]\n",
            " [0. 0. 0. 1.]\n",
            " [0. 0. 1. 0.]\n",
            " [0. 1. 0. 0.]\n",
            " [0. 0. 0. 1.]\n",
            " [0. 0. 0. 1.]\n",
            " [0. 0. 1. 0.]\n",
            " [0. 0. 0. 1.]\n",
            " [0. 0. 1. 0.]\n",
            " [0. 0. 0. 1.]\n",
            " [0. 0. 0. 1.]\n",
            " [0. 0. 0. 1.]\n",
            " [0. 0. 0. 1.]]\n"
          ]
        }
      ]
    },
    {
      "cell_type": "code",
      "source": [
        "Y_test = np_utils.to_categorical(Y_test,num_classes=4)"
      ],
      "metadata": {
        "id": "5sZyQZIoJ0M4"
      },
      "execution_count": null,
      "outputs": []
    },
    {
      "cell_type": "code",
      "source": [
        "print(X_train)"
      ],
      "metadata": {
        "id": "xJzozNtBZl6b",
        "colab": {
          "base_uri": "https://localhost:8080/"
        },
        "outputId": "e57a930b-26b9-427b-85b1-e8fdbd7392ce"
      },
      "execution_count": null,
      "outputs": [
        {
          "output_type": "stream",
          "name": "stdout",
          "text": [
            "     SepalLengthCm  SepalWidthCm  PetalLengthCm  PetalWidthCm\n",
            "136            6.3           3.4            5.6           2.4\n",
            "108            6.7           2.5            5.8           1.8\n",
            "42             4.4           3.2            1.3           0.2\n",
            "134            6.1           2.6            5.6           1.4\n",
            "73             6.1           2.8            4.7           1.2\n",
            "..             ...           ...            ...           ...\n",
            "51             6.4           3.2            4.5           1.5\n",
            "100            6.3           3.3            6.0           2.5\n",
            "125            7.2           3.2            6.0           1.8\n",
            "146            6.3           2.5            5.0           1.9\n",
            "127            6.1           3.0            4.9           1.8\n",
            "\n",
            "[105 rows x 4 columns]\n"
          ]
        }
      ]
    },
    {
      "cell_type": "code",
      "source": [
        "print(X_test)"
      ],
      "metadata": {
        "id": "OscUoNbAZqFZ",
        "colab": {
          "base_uri": "https://localhost:8080/"
        },
        "outputId": "66fe7c87-9abc-4c9a-92e6-e506a28490ba"
      },
      "execution_count": null,
      "outputs": [
        {
          "output_type": "stream",
          "name": "stdout",
          "text": [
            "     SepalLengthCm  SepalWidthCm  PetalLengthCm  PetalWidthCm\n",
            "50             7.0           3.2            4.7           1.4\n",
            "1              4.9           3.0            1.4           0.2\n",
            "88             5.6           3.0            4.1           1.3\n",
            "142            5.8           2.7            5.1           1.9\n",
            "12             4.8           3.0            1.4           0.1\n",
            "0              5.1           3.5            1.4           0.2\n",
            "111            6.4           2.7            5.3           1.9\n",
            "31             5.4           3.4            1.5           0.4\n",
            "10             5.4           3.7            1.5           0.2\n",
            "68             6.2           2.2            4.5           1.5\n",
            "96             5.7           2.9            4.2           1.3\n",
            "20             5.4           3.4            1.7           0.2\n",
            "143            6.8           3.2            5.9           2.3\n",
            "77             6.7           3.0            5.0           1.7\n",
            "58             6.6           2.9            4.6           1.3\n",
            "129            7.2           3.0            5.8           1.6\n",
            "81             5.5           2.4            3.7           1.0\n",
            "64             5.6           2.9            3.6           1.3\n",
            "120            6.9           3.2            5.7           2.3\n",
            "45             4.8           3.0            1.4           0.3\n",
            "133            6.3           2.8            5.1           1.5\n",
            "5              5.4           3.9            1.7           0.4\n",
            "110            6.5           3.2            5.1           2.0\n",
            "3              4.6           3.1            1.5           0.2\n",
            "14             5.8           4.0            1.2           0.2\n",
            "2              4.7           3.2            1.3           0.2\n",
            "138            6.0           3.0            4.8           1.8\n",
            "99             5.7           2.8            4.1           1.3\n",
            "85             6.0           3.4            4.5           1.6\n",
            "93             5.0           2.3            3.3           1.0\n",
            "145            6.7           3.0            5.2           2.3\n",
            "76             6.8           2.8            4.8           1.4\n",
            "109            7.2           3.6            6.1           2.5\n",
            "47             4.6           3.2            1.4           0.2\n",
            "72             6.3           2.5            4.9           1.5\n",
            "4              5.0           3.6            1.4           0.2\n",
            "57             4.9           2.4            3.3           1.0\n",
            "92             5.8           2.6            4.0           1.2\n",
            "102            7.1           3.0            5.9           2.1\n",
            "19             5.1           3.8            1.5           0.3\n",
            "44             5.1           3.8            1.9           0.4\n",
            "147            6.5           3.0            5.2           2.0\n",
            "13             4.3           3.0            1.1           0.1\n",
            "123            6.3           2.7            4.9           1.8\n",
            "37             4.9           3.1            1.5           0.1\n"
          ]
        }
      ]
    },
    {
      "cell_type": "markdown",
      "source": [
        "# Normalizing Data"
      ],
      "metadata": {
        "id": "ip-pbWQ7vOsu"
      }
    },
    {
      "cell_type": "code",
      "source": [
        "mm = MinMaxScaler(feature_range = (0, 1))\n",
        "training_data = mm.fit_transform(X)"
      ],
      "metadata": {
        "id": "vDzwE9r0gKDo"
      },
      "execution_count": null,
      "outputs": []
    },
    {
      "cell_type": "code",
      "source": [
        "X_train.shape"
      ],
      "metadata": {
        "id": "K4iRPS1yZsX2",
        "colab": {
          "base_uri": "https://localhost:8080/"
        },
        "outputId": "12feb0ba-8260-40ff-9cc8-f14195158421"
      },
      "execution_count": null,
      "outputs": [
        {
          "output_type": "execute_result",
          "data": {
            "text/plain": [
              "(105, 4)"
            ]
          },
          "metadata": {},
          "execution_count": 17
        }
      ]
    },
    {
      "cell_type": "markdown",
      "source": [
        "# Model\n",
        "In this model we are having 4 neurons in the input layer and the are total of 4 hidden layers each containing 50 neurons and relu activattion function and out final layer or the output layer contain 3 neurons with sigmoid as activation function."
      ],
      "metadata": {
        "id": "lfiaSRYBvXBj"
      }
    },
    {
      "cell_type": "code",
      "source": [
        "model = models.Sequential()\n",
        "model.add(Input( shape=[4,]))\n",
        "\n",
        "model.add(Dense(50, activation='relu'))\n",
        "model.add(Dense(50, activation='relu'))\n",
        "model.add(Dense(50, activation='relu'))\n",
        "model.add(Dense(50, activation='relu'))\n",
        "\n",
        "model.add(Dense(4, activation='sigmoid'))"
      ],
      "metadata": {
        "id": "5-3cs0y9Zysa"
      },
      "execution_count": null,
      "outputs": []
    },
    {
      "cell_type": "markdown",
      "source": [
        "# Compile the model\n",
        "For compiling the model we are going to use adam optimizer and categorical_crossentopy as loss function."
      ],
      "metadata": {
        "id": "nbLvBeoVv--l"
      }
    },
    {
      "cell_type": "code",
      "source": [
        "model.compile(optimizer='adam',\n",
        "              loss='categorical_crossentropy',\n",
        "              metrics=['accuracy'])"
      ],
      "metadata": {
        "id": "0rstCsT5Z1uY"
      },
      "execution_count": null,
      "outputs": []
    },
    {
      "cell_type": "markdown",
      "source": [
        "# Training the model\n"
      ],
      "metadata": {
        "id": "f2dYoAzrwP7s"
      }
    },
    {
      "cell_type": "code",
      "source": [
        "history = model.fit(X_train, Y_train, epochs=200,\n",
        "          validation_data=(X_test, Y_test))"
      ],
      "metadata": {
        "id": "QmIZPviYZ_1v",
        "colab": {
          "base_uri": "https://localhost:8080/"
        },
        "outputId": "817d8d35-b74e-49a9-dab0-e8f10982a476"
      },
      "execution_count": null,
      "outputs": [
        {
          "output_type": "stream",
          "name": "stdout",
          "text": [
            "Epoch 1/200\n",
            "4/4 [==============================] - 5s 146ms/step - loss: 1.4331 - accuracy: 0.3524 - val_loss: 1.3125 - val_accuracy: 0.2889\n",
            "Epoch 2/200\n",
            "4/4 [==============================] - 0s 26ms/step - loss: 1.2550 - accuracy: 0.3619 - val_loss: 1.2075 - val_accuracy: 0.3333\n",
            "Epoch 3/200\n",
            "4/4 [==============================] - 0s 23ms/step - loss: 1.1519 - accuracy: 0.3524 - val_loss: 1.1228 - val_accuracy: 0.2889\n",
            "Epoch 4/200\n",
            "4/4 [==============================] - 0s 41ms/step - loss: 1.0683 - accuracy: 0.3524 - val_loss: 1.0711 - val_accuracy: 0.2889\n",
            "Epoch 5/200\n",
            "4/4 [==============================] - 0s 22ms/step - loss: 1.0154 - accuracy: 0.3619 - val_loss: 1.0093 - val_accuracy: 0.3111\n",
            "Epoch 6/200\n",
            "4/4 [==============================] - 0s 28ms/step - loss: 0.9701 - accuracy: 0.4571 - val_loss: 0.9659 - val_accuracy: 0.4444\n",
            "Epoch 7/200\n",
            "4/4 [==============================] - 0s 22ms/step - loss: 0.9384 - accuracy: 0.6286 - val_loss: 0.9141 - val_accuracy: 0.6667\n",
            "Epoch 8/200\n",
            "4/4 [==============================] - 0s 29ms/step - loss: 0.8813 - accuracy: 0.6762 - val_loss: 0.8756 - val_accuracy: 0.6667\n",
            "Epoch 9/200\n",
            "4/4 [==============================] - 0s 34ms/step - loss: 0.8388 - accuracy: 0.6667 - val_loss: 0.8184 - val_accuracy: 0.6667\n",
            "Epoch 10/200\n",
            "4/4 [==============================] - 0s 28ms/step - loss: 0.7844 - accuracy: 0.6762 - val_loss: 0.7522 - val_accuracy: 0.9333\n",
            "Epoch 11/200\n",
            "4/4 [==============================] - 0s 53ms/step - loss: 0.7375 - accuracy: 0.8571 - val_loss: 0.6940 - val_accuracy: 0.9111\n",
            "Epoch 12/200\n",
            "4/4 [==============================] - 0s 23ms/step - loss: 0.6825 - accuracy: 0.7810 - val_loss: 0.6470 - val_accuracy: 0.6667\n",
            "Epoch 13/200\n",
            "4/4 [==============================] - 0s 23ms/step - loss: 0.6319 - accuracy: 0.6952 - val_loss: 0.5811 - val_accuracy: 0.7556\n",
            "Epoch 14/200\n",
            "4/4 [==============================] - 0s 25ms/step - loss: 0.5722 - accuracy: 0.6952 - val_loss: 0.5304 - val_accuracy: 0.7556\n",
            "Epoch 15/200\n",
            "4/4 [==============================] - 0s 26ms/step - loss: 0.5213 - accuracy: 0.8381 - val_loss: 0.4791 - val_accuracy: 0.9778\n",
            "Epoch 16/200\n",
            "4/4 [==============================] - 0s 25ms/step - loss: 0.4810 - accuracy: 0.9619 - val_loss: 0.4387 - val_accuracy: 0.9333\n",
            "Epoch 17/200\n",
            "4/4 [==============================] - 0s 21ms/step - loss: 0.4417 - accuracy: 0.8571 - val_loss: 0.4076 - val_accuracy: 0.9111\n",
            "Epoch 18/200\n",
            "4/4 [==============================] - 0s 46ms/step - loss: 0.4118 - accuracy: 0.8571 - val_loss: 0.3771 - val_accuracy: 0.9556\n",
            "Epoch 19/200\n",
            "4/4 [==============================] - 0s 29ms/step - loss: 0.3786 - accuracy: 0.9524 - val_loss: 0.3524 - val_accuracy: 0.9333\n",
            "Epoch 20/200\n",
            "4/4 [==============================] - 0s 40ms/step - loss: 0.3405 - accuracy: 0.9524 - val_loss: 0.3266 - val_accuracy: 0.9333\n",
            "Epoch 21/200\n",
            "4/4 [==============================] - 0s 29ms/step - loss: 0.3236 - accuracy: 0.9143 - val_loss: 0.2958 - val_accuracy: 0.9778\n",
            "Epoch 22/200\n",
            "4/4 [==============================] - 0s 22ms/step - loss: 0.2860 - accuracy: 0.9810 - val_loss: 0.2995 - val_accuracy: 0.8667\n",
            "Epoch 23/200\n",
            "4/4 [==============================] - 0s 34ms/step - loss: 0.3100 - accuracy: 0.9238 - val_loss: 0.2525 - val_accuracy: 0.9778\n",
            "Epoch 24/200\n",
            "4/4 [==============================] - 0s 31ms/step - loss: 0.2708 - accuracy: 0.9143 - val_loss: 0.2425 - val_accuracy: 0.9333\n",
            "Epoch 25/200\n",
            "4/4 [==============================] - 0s 36ms/step - loss: 0.2459 - accuracy: 0.9429 - val_loss: 0.2654 - val_accuracy: 0.8667\n",
            "Epoch 26/200\n",
            "4/4 [==============================] - 0s 24ms/step - loss: 0.2173 - accuracy: 0.9429 - val_loss: 0.2159 - val_accuracy: 0.9333\n",
            "Epoch 27/200\n",
            "4/4 [==============================] - 0s 26ms/step - loss: 0.2196 - accuracy: 0.9238 - val_loss: 0.1992 - val_accuracy: 0.9556\n",
            "Epoch 28/200\n",
            "4/4 [==============================] - 0s 29ms/step - loss: 0.1890 - accuracy: 0.9619 - val_loss: 0.1927 - val_accuracy: 0.9333\n",
            "Epoch 29/200\n",
            "4/4 [==============================] - 0s 22ms/step - loss: 0.1742 - accuracy: 0.9619 - val_loss: 0.1751 - val_accuracy: 0.9778\n",
            "Epoch 30/200\n",
            "4/4 [==============================] - 0s 26ms/step - loss: 0.1777 - accuracy: 0.9714 - val_loss: 0.1774 - val_accuracy: 0.9333\n",
            "Epoch 31/200\n",
            "4/4 [==============================] - 0s 23ms/step - loss: 0.1471 - accuracy: 0.9714 - val_loss: 0.1602 - val_accuracy: 0.9556\n",
            "Epoch 32/200\n",
            "4/4 [==============================] - 0s 29ms/step - loss: 0.1549 - accuracy: 0.9619 - val_loss: 0.1719 - val_accuracy: 0.9333\n",
            "Epoch 33/200\n",
            "4/4 [==============================] - 0s 23ms/step - loss: 0.1537 - accuracy: 0.9524 - val_loss: 0.1613 - val_accuracy: 0.9333\n",
            "Epoch 34/200\n",
            "4/4 [==============================] - 0s 22ms/step - loss: 0.1362 - accuracy: 0.9619 - val_loss: 0.1364 - val_accuracy: 0.9778\n",
            "Epoch 35/200\n",
            "4/4 [==============================] - 0s 23ms/step - loss: 0.1279 - accuracy: 0.9810 - val_loss: 0.1483 - val_accuracy: 0.9333\n",
            "Epoch 36/200\n",
            "4/4 [==============================] - 0s 24ms/step - loss: 0.1295 - accuracy: 0.9619 - val_loss: 0.1282 - val_accuracy: 0.9778\n",
            "Epoch 37/200\n",
            "4/4 [==============================] - 0s 25ms/step - loss: 0.1250 - accuracy: 0.9810 - val_loss: 0.1261 - val_accuracy: 0.9556\n",
            "Epoch 38/200\n",
            "4/4 [==============================] - 0s 23ms/step - loss: 0.1248 - accuracy: 0.9619 - val_loss: 0.1514 - val_accuracy: 0.9556\n",
            "Epoch 39/200\n",
            "4/4 [==============================] - 0s 22ms/step - loss: 0.1138 - accuracy: 0.9714 - val_loss: 0.1156 - val_accuracy: 0.9778\n",
            "Epoch 40/200\n",
            "4/4 [==============================] - 0s 30ms/step - loss: 0.1115 - accuracy: 0.9619 - val_loss: 0.1316 - val_accuracy: 0.9333\n",
            "Epoch 41/200\n",
            "4/4 [==============================] - 0s 24ms/step - loss: 0.1220 - accuracy: 0.9619 - val_loss: 0.1266 - val_accuracy: 0.9333\n",
            "Epoch 42/200\n",
            "4/4 [==============================] - 0s 23ms/step - loss: 0.1044 - accuracy: 0.9619 - val_loss: 0.1081 - val_accuracy: 0.9778\n",
            "Epoch 43/200\n",
            "4/4 [==============================] - 0s 52ms/step - loss: 0.1001 - accuracy: 0.9810 - val_loss: 0.1400 - val_accuracy: 0.9333\n",
            "Epoch 44/200\n",
            "4/4 [==============================] - 0s 24ms/step - loss: 0.1006 - accuracy: 0.9619 - val_loss: 0.1170 - val_accuracy: 0.9333\n",
            "Epoch 45/200\n",
            "4/4 [==============================] - 0s 23ms/step - loss: 0.0938 - accuracy: 0.9714 - val_loss: 0.1082 - val_accuracy: 0.9778\n",
            "Epoch 46/200\n",
            "4/4 [==============================] - 0s 38ms/step - loss: 0.0917 - accuracy: 0.9810 - val_loss: 0.1089 - val_accuracy: 0.9556\n",
            "Epoch 47/200\n",
            "4/4 [==============================] - 0s 33ms/step - loss: 0.0884 - accuracy: 0.9810 - val_loss: 0.1023 - val_accuracy: 0.9778\n",
            "Epoch 48/200\n",
            "4/4 [==============================] - 0s 30ms/step - loss: 0.0873 - accuracy: 0.9810 - val_loss: 0.1069 - val_accuracy: 0.9333\n",
            "Epoch 49/200\n",
            "4/4 [==============================] - 0s 27ms/step - loss: 0.0863 - accuracy: 0.9714 - val_loss: 0.1075 - val_accuracy: 0.9333\n",
            "Epoch 50/200\n",
            "4/4 [==============================] - 0s 44ms/step - loss: 0.0843 - accuracy: 0.9714 - val_loss: 0.0938 - val_accuracy: 0.9778\n",
            "Epoch 51/200\n",
            "4/4 [==============================] - 0s 36ms/step - loss: 0.0885 - accuracy: 0.9810 - val_loss: 0.0962 - val_accuracy: 0.9778\n",
            "Epoch 52/200\n",
            "4/4 [==============================] - 0s 22ms/step - loss: 0.0871 - accuracy: 0.9714 - val_loss: 0.1009 - val_accuracy: 0.9556\n",
            "Epoch 53/200\n",
            "4/4 [==============================] - 0s 24ms/step - loss: 0.0970 - accuracy: 0.9810 - val_loss: 0.0936 - val_accuracy: 0.9778\n",
            "Epoch 54/200\n",
            "4/4 [==============================] - 0s 26ms/step - loss: 0.1058 - accuracy: 0.9524 - val_loss: 0.1085 - val_accuracy: 0.9333\n",
            "Epoch 55/200\n",
            "4/4 [==============================] - 0s 26ms/step - loss: 0.1000 - accuracy: 0.9619 - val_loss: 0.1238 - val_accuracy: 0.9333\n",
            "Epoch 56/200\n",
            "4/4 [==============================] - 0s 25ms/step - loss: 0.0955 - accuracy: 0.9714 - val_loss: 0.1763 - val_accuracy: 0.8889\n",
            "Epoch 57/200\n",
            "4/4 [==============================] - 0s 26ms/step - loss: 0.1146 - accuracy: 0.9429 - val_loss: 0.1126 - val_accuracy: 0.9556\n",
            "Epoch 58/200\n",
            "4/4 [==============================] - 0s 46ms/step - loss: 0.0705 - accuracy: 0.9714 - val_loss: 0.0970 - val_accuracy: 0.9556\n",
            "Epoch 59/200\n",
            "4/4 [==============================] - 0s 23ms/step - loss: 0.0982 - accuracy: 0.9714 - val_loss: 0.0910 - val_accuracy: 0.9778\n",
            "Epoch 60/200\n",
            "4/4 [==============================] - 0s 25ms/step - loss: 0.0829 - accuracy: 0.9714 - val_loss: 0.1278 - val_accuracy: 0.9333\n",
            "Epoch 61/200\n",
            "4/4 [==============================] - 0s 32ms/step - loss: 0.0882 - accuracy: 0.9619 - val_loss: 0.0899 - val_accuracy: 0.9778\n",
            "Epoch 62/200\n",
            "4/4 [==============================] - 0s 37ms/step - loss: 0.0758 - accuracy: 0.9714 - val_loss: 0.1029 - val_accuracy: 0.9333\n",
            "Epoch 63/200\n",
            "4/4 [==============================] - 0s 30ms/step - loss: 0.0841 - accuracy: 0.9810 - val_loss: 0.0849 - val_accuracy: 0.9778\n",
            "Epoch 64/200\n",
            "4/4 [==============================] - 0s 23ms/step - loss: 0.0718 - accuracy: 0.9810 - val_loss: 0.1181 - val_accuracy: 0.9333\n",
            "Epoch 65/200\n",
            "4/4 [==============================] - 0s 48ms/step - loss: 0.0854 - accuracy: 0.9619 - val_loss: 0.0885 - val_accuracy: 0.9778\n",
            "Epoch 66/200\n",
            "4/4 [==============================] - 0s 46ms/step - loss: 0.0762 - accuracy: 0.9810 - val_loss: 0.0835 - val_accuracy: 0.9778\n",
            "Epoch 67/200\n",
            "4/4 [==============================] - 0s 58ms/step - loss: 0.0761 - accuracy: 0.9714 - val_loss: 0.1389 - val_accuracy: 0.9111\n",
            "Epoch 68/200\n",
            "4/4 [==============================] - 0s 35ms/step - loss: 0.0733 - accuracy: 0.9810 - val_loss: 0.0832 - val_accuracy: 0.9778\n",
            "Epoch 69/200\n",
            "4/4 [==============================] - 0s 45ms/step - loss: 0.0756 - accuracy: 0.9810 - val_loss: 0.0822 - val_accuracy: 0.9778\n",
            "Epoch 70/200\n",
            "4/4 [==============================] - 0s 50ms/step - loss: 0.0704 - accuracy: 0.9905 - val_loss: 0.1075 - val_accuracy: 0.9556\n",
            "Epoch 71/200\n",
            "4/4 [==============================] - 0s 31ms/step - loss: 0.0699 - accuracy: 0.9619 - val_loss: 0.0921 - val_accuracy: 0.9556\n",
            "Epoch 72/200\n",
            "4/4 [==============================] - 0s 32ms/step - loss: 0.0664 - accuracy: 0.9905 - val_loss: 0.0802 - val_accuracy: 0.9778\n",
            "Epoch 73/200\n",
            "4/4 [==============================] - 0s 59ms/step - loss: 0.0819 - accuracy: 0.9810 - val_loss: 0.0793 - val_accuracy: 0.9778\n",
            "Epoch 74/200\n",
            "4/4 [==============================] - 0s 44ms/step - loss: 0.0684 - accuracy: 0.9810 - val_loss: 0.0961 - val_accuracy: 0.9556\n",
            "Epoch 75/200\n",
            "4/4 [==============================] - 0s 52ms/step - loss: 0.0662 - accuracy: 0.9810 - val_loss: 0.0785 - val_accuracy: 0.9778\n",
            "Epoch 76/200\n",
            "4/4 [==============================] - 0s 60ms/step - loss: 0.0679 - accuracy: 0.9905 - val_loss: 0.0848 - val_accuracy: 0.9778\n",
            "Epoch 77/200\n",
            "4/4 [==============================] - 0s 55ms/step - loss: 0.0663 - accuracy: 0.9810 - val_loss: 0.0846 - val_accuracy: 0.9778\n",
            "Epoch 78/200\n",
            "4/4 [==============================] - 0s 37ms/step - loss: 0.0739 - accuracy: 0.9810 - val_loss: 0.0799 - val_accuracy: 0.9778\n",
            "Epoch 79/200\n",
            "4/4 [==============================] - 0s 62ms/step - loss: 0.0762 - accuracy: 0.9810 - val_loss: 0.0875 - val_accuracy: 0.9556\n",
            "Epoch 80/200\n",
            "4/4 [==============================] - 0s 49ms/step - loss: 0.0654 - accuracy: 0.9714 - val_loss: 0.0951 - val_accuracy: 0.9556\n",
            "Epoch 81/200\n",
            "4/4 [==============================] - 0s 29ms/step - loss: 0.0748 - accuracy: 0.9810 - val_loss: 0.0770 - val_accuracy: 0.9778\n",
            "Epoch 82/200\n",
            "4/4 [==============================] - 0s 22ms/step - loss: 0.0698 - accuracy: 0.9905 - val_loss: 0.0889 - val_accuracy: 0.9556\n",
            "Epoch 83/200\n",
            "4/4 [==============================] - 0s 25ms/step - loss: 0.0627 - accuracy: 0.9905 - val_loss: 0.0771 - val_accuracy: 0.9778\n",
            "Epoch 84/200\n",
            "4/4 [==============================] - 0s 30ms/step - loss: 0.0869 - accuracy: 0.9810 - val_loss: 0.0775 - val_accuracy: 0.9778\n",
            "Epoch 85/200\n",
            "4/4 [==============================] - 0s 33ms/step - loss: 0.0602 - accuracy: 0.9905 - val_loss: 0.1266 - val_accuracy: 0.9333\n",
            "Epoch 86/200\n",
            "4/4 [==============================] - 0s 25ms/step - loss: 0.0936 - accuracy: 0.9524 - val_loss: 0.0869 - val_accuracy: 0.9556\n",
            "Epoch 87/200\n",
            "4/4 [==============================] - 0s 29ms/step - loss: 0.0872 - accuracy: 0.9810 - val_loss: 0.1227 - val_accuracy: 0.9333\n",
            "Epoch 88/200\n",
            "4/4 [==============================] - 0s 23ms/step - loss: 0.0879 - accuracy: 0.9810 - val_loss: 0.1197 - val_accuracy: 0.9333\n",
            "Epoch 89/200\n",
            "4/4 [==============================] - 0s 40ms/step - loss: 0.0691 - accuracy: 0.9619 - val_loss: 0.1528 - val_accuracy: 0.8889\n",
            "Epoch 90/200\n",
            "4/4 [==============================] - 0s 33ms/step - loss: 0.0804 - accuracy: 0.9619 - val_loss: 0.0760 - val_accuracy: 0.9778\n",
            "Epoch 91/200\n",
            "4/4 [==============================] - 0s 44ms/step - loss: 0.0821 - accuracy: 0.9810 - val_loss: 0.1122 - val_accuracy: 0.9333\n",
            "Epoch 92/200\n",
            "4/4 [==============================] - 0s 40ms/step - loss: 0.1077 - accuracy: 0.9619 - val_loss: 0.0951 - val_accuracy: 0.9556\n",
            "Epoch 93/200\n",
            "4/4 [==============================] - 0s 51ms/step - loss: 0.0623 - accuracy: 0.9714 - val_loss: 0.0779 - val_accuracy: 0.9778\n",
            "Epoch 94/200\n",
            "4/4 [==============================] - 0s 31ms/step - loss: 0.0594 - accuracy: 0.9905 - val_loss: 0.0782 - val_accuracy: 0.9778\n",
            "Epoch 95/200\n",
            "4/4 [==============================] - 0s 25ms/step - loss: 0.0582 - accuracy: 0.9905 - val_loss: 0.0887 - val_accuracy: 0.9556\n",
            "Epoch 96/200\n",
            "4/4 [==============================] - 0s 31ms/step - loss: 0.0589 - accuracy: 0.9905 - val_loss: 0.0839 - val_accuracy: 0.9556\n",
            "Epoch 97/200\n",
            "4/4 [==============================] - 0s 22ms/step - loss: 0.0579 - accuracy: 0.9905 - val_loss: 0.0791 - val_accuracy: 0.9778\n",
            "Epoch 98/200\n",
            "4/4 [==============================] - 0s 20ms/step - loss: 0.0579 - accuracy: 0.9905 - val_loss: 0.0751 - val_accuracy: 0.9778\n",
            "Epoch 99/200\n",
            "4/4 [==============================] - 0s 23ms/step - loss: 0.0582 - accuracy: 0.9905 - val_loss: 0.0737 - val_accuracy: 0.9778\n",
            "Epoch 100/200\n",
            "4/4 [==============================] - 0s 48ms/step - loss: 0.0622 - accuracy: 0.9905 - val_loss: 0.0745 - val_accuracy: 0.9778\n",
            "Epoch 101/200\n",
            "4/4 [==============================] - 0s 24ms/step - loss: 0.0614 - accuracy: 0.9905 - val_loss: 0.0770 - val_accuracy: 0.9778\n",
            "Epoch 102/200\n",
            "4/4 [==============================] - 0s 26ms/step - loss: 0.0620 - accuracy: 0.9810 - val_loss: 0.1124 - val_accuracy: 0.9333\n",
            "Epoch 103/200\n",
            "4/4 [==============================] - 0s 26ms/step - loss: 0.0686 - accuracy: 0.9714 - val_loss: 0.0954 - val_accuracy: 0.9556\n",
            "Epoch 104/200\n",
            "4/4 [==============================] - 0s 37ms/step - loss: 0.0582 - accuracy: 0.9714 - val_loss: 0.1051 - val_accuracy: 0.9333\n",
            "Epoch 105/200\n",
            "4/4 [==============================] - 0s 28ms/step - loss: 0.0613 - accuracy: 0.9714 - val_loss: 0.0745 - val_accuracy: 0.9778\n",
            "Epoch 106/200\n",
            "4/4 [==============================] - 0s 37ms/step - loss: 0.0574 - accuracy: 0.9905 - val_loss: 0.0738 - val_accuracy: 0.9778\n",
            "Epoch 107/200\n",
            "4/4 [==============================] - 0s 40ms/step - loss: 0.0589 - accuracy: 0.9905 - val_loss: 0.0834 - val_accuracy: 0.9556\n",
            "Epoch 108/200\n",
            "4/4 [==============================] - 0s 27ms/step - loss: 0.0581 - accuracy: 0.9905 - val_loss: 0.0886 - val_accuracy: 0.9778\n",
            "Epoch 109/200\n",
            "4/4 [==============================] - 0s 53ms/step - loss: 0.0561 - accuracy: 0.9905 - val_loss: 0.0731 - val_accuracy: 0.9778\n",
            "Epoch 110/200\n",
            "4/4 [==============================] - 0s 24ms/step - loss: 0.0571 - accuracy: 0.9905 - val_loss: 0.0732 - val_accuracy: 0.9778\n",
            "Epoch 111/200\n",
            "4/4 [==============================] - 0s 27ms/step - loss: 0.0591 - accuracy: 0.9905 - val_loss: 0.0777 - val_accuracy: 0.9778\n",
            "Epoch 112/200\n",
            "4/4 [==============================] - 0s 30ms/step - loss: 0.0584 - accuracy: 0.9905 - val_loss: 0.0718 - val_accuracy: 0.9778\n",
            "Epoch 113/200\n",
            "4/4 [==============================] - 0s 68ms/step - loss: 0.0565 - accuracy: 0.9905 - val_loss: 0.0900 - val_accuracy: 0.9556\n",
            "Epoch 114/200\n",
            "4/4 [==============================] - 0s 40ms/step - loss: 0.0553 - accuracy: 0.9810 - val_loss: 0.0913 - val_accuracy: 0.9333\n",
            "Epoch 115/200\n",
            "4/4 [==============================] - 0s 39ms/step - loss: 0.0547 - accuracy: 0.9905 - val_loss: 0.0746 - val_accuracy: 0.9778\n",
            "Epoch 116/200\n",
            "4/4 [==============================] - 0s 39ms/step - loss: 0.0599 - accuracy: 0.9810 - val_loss: 0.0728 - val_accuracy: 0.9778\n",
            "Epoch 117/200\n",
            "4/4 [==============================] - 0s 80ms/step - loss: 0.0593 - accuracy: 0.9905 - val_loss: 0.0703 - val_accuracy: 0.9778\n",
            "Epoch 118/200\n",
            "4/4 [==============================] - 0s 50ms/step - loss: 0.0630 - accuracy: 0.9905 - val_loss: 0.0847 - val_accuracy: 0.9778\n",
            "Epoch 119/200\n",
            "4/4 [==============================] - 0s 52ms/step - loss: 0.0591 - accuracy: 0.9714 - val_loss: 0.0718 - val_accuracy: 0.9778\n",
            "Epoch 120/200\n",
            "4/4 [==============================] - 0s 44ms/step - loss: 0.0565 - accuracy: 0.9905 - val_loss: 0.0714 - val_accuracy: 0.9778\n",
            "Epoch 121/200\n",
            "4/4 [==============================] - 0s 30ms/step - loss: 0.0576 - accuracy: 0.9810 - val_loss: 0.0783 - val_accuracy: 0.9778\n",
            "Epoch 122/200\n",
            "4/4 [==============================] - 0s 44ms/step - loss: 0.0526 - accuracy: 0.9905 - val_loss: 0.0924 - val_accuracy: 0.9333\n",
            "Epoch 123/200\n",
            "4/4 [==============================] - 0s 37ms/step - loss: 0.0547 - accuracy: 0.9810 - val_loss: 0.0750 - val_accuracy: 0.9778\n",
            "Epoch 124/200\n",
            "4/4 [==============================] - 0s 59ms/step - loss: 0.0532 - accuracy: 0.9905 - val_loss: 0.0704 - val_accuracy: 0.9778\n",
            "Epoch 125/200\n",
            "4/4 [==============================] - 0s 18ms/step - loss: 0.0550 - accuracy: 0.9905 - val_loss: 0.0810 - val_accuracy: 0.9778\n",
            "Epoch 126/200\n",
            "4/4 [==============================] - 0s 18ms/step - loss: 0.0590 - accuracy: 0.9714 - val_loss: 0.0760 - val_accuracy: 0.9778\n",
            "Epoch 127/200\n",
            "4/4 [==============================] - 0s 22ms/step - loss: 0.0557 - accuracy: 0.9905 - val_loss: 0.0706 - val_accuracy: 0.9778\n",
            "Epoch 128/200\n",
            "4/4 [==============================] - 0s 13ms/step - loss: 0.0578 - accuracy: 0.9905 - val_loss: 0.0704 - val_accuracy: 0.9778\n",
            "Epoch 129/200\n",
            "4/4 [==============================] - 0s 14ms/step - loss: 0.0538 - accuracy: 0.9905 - val_loss: 0.0730 - val_accuracy: 0.9778\n",
            "Epoch 130/200\n",
            "4/4 [==============================] - 0s 13ms/step - loss: 0.0560 - accuracy: 0.9905 - val_loss: 0.0740 - val_accuracy: 0.9778\n",
            "Epoch 131/200\n",
            "4/4 [==============================] - 0s 13ms/step - loss: 0.0509 - accuracy: 0.9905 - val_loss: 0.0925 - val_accuracy: 0.9333\n",
            "Epoch 132/200\n",
            "4/4 [==============================] - 0s 19ms/step - loss: 0.0572 - accuracy: 0.9810 - val_loss: 0.0729 - val_accuracy: 0.9778\n",
            "Epoch 133/200\n",
            "4/4 [==============================] - 0s 13ms/step - loss: 0.0609 - accuracy: 0.9905 - val_loss: 0.0941 - val_accuracy: 0.9556\n",
            "Epoch 134/200\n",
            "4/4 [==============================] - 0s 12ms/step - loss: 0.0665 - accuracy: 0.9905 - val_loss: 0.1020 - val_accuracy: 0.9333\n",
            "Epoch 135/200\n",
            "4/4 [==============================] - 0s 13ms/step - loss: 0.0574 - accuracy: 0.9714 - val_loss: 0.1233 - val_accuracy: 0.9333\n",
            "Epoch 136/200\n",
            "4/4 [==============================] - 0s 17ms/step - loss: 0.0563 - accuracy: 0.9714 - val_loss: 0.0716 - val_accuracy: 0.9778\n",
            "Epoch 137/200\n",
            "4/4 [==============================] - 0s 13ms/step - loss: 0.0641 - accuracy: 0.9810 - val_loss: 0.0708 - val_accuracy: 0.9778\n",
            "Epoch 138/200\n",
            "4/4 [==============================] - 0s 17ms/step - loss: 0.0468 - accuracy: 0.9905 - val_loss: 0.1498 - val_accuracy: 0.8889\n",
            "Epoch 139/200\n",
            "4/4 [==============================] - 0s 14ms/step - loss: 0.1020 - accuracy: 0.9429 - val_loss: 0.1058 - val_accuracy: 0.9333\n",
            "Epoch 140/200\n",
            "4/4 [==============================] - 0s 12ms/step - loss: 0.0556 - accuracy: 0.9714 - val_loss: 0.1087 - val_accuracy: 0.9333\n",
            "Epoch 141/200\n",
            "4/4 [==============================] - 0s 21ms/step - loss: 0.0627 - accuracy: 0.9714 - val_loss: 0.1240 - val_accuracy: 0.9333\n",
            "Epoch 142/200\n",
            "4/4 [==============================] - 0s 12ms/step - loss: 0.1029 - accuracy: 0.9619 - val_loss: 0.1654 - val_accuracy: 0.8889\n",
            "Epoch 143/200\n",
            "4/4 [==============================] - 0s 12ms/step - loss: 0.0803 - accuracy: 0.9619 - val_loss: 0.0862 - val_accuracy: 0.9556\n",
            "Epoch 144/200\n",
            "4/4 [==============================] - 0s 18ms/step - loss: 0.0644 - accuracy: 0.9810 - val_loss: 0.0867 - val_accuracy: 0.9556\n",
            "Epoch 145/200\n",
            "4/4 [==============================] - 0s 18ms/step - loss: 0.0544 - accuracy: 0.9810 - val_loss: 0.1199 - val_accuracy: 0.9333\n",
            "Epoch 146/200\n",
            "4/4 [==============================] - 0s 18ms/step - loss: 0.0580 - accuracy: 0.9714 - val_loss: 0.0732 - val_accuracy: 0.9778\n",
            "Epoch 147/200\n",
            "4/4 [==============================] - 0s 18ms/step - loss: 0.0555 - accuracy: 0.9810 - val_loss: 0.0775 - val_accuracy: 0.9556\n",
            "Epoch 148/200\n",
            "4/4 [==============================] - 0s 17ms/step - loss: 0.0573 - accuracy: 0.9905 - val_loss: 0.0961 - val_accuracy: 0.9556\n",
            "Epoch 149/200\n",
            "4/4 [==============================] - 0s 13ms/step - loss: 0.0591 - accuracy: 0.9714 - val_loss: 0.0837 - val_accuracy: 0.9556\n",
            "Epoch 150/200\n",
            "4/4 [==============================] - 0s 13ms/step - loss: 0.0495 - accuracy: 0.9905 - val_loss: 0.0748 - val_accuracy: 0.9778\n",
            "Epoch 151/200\n",
            "4/4 [==============================] - 0s 15ms/step - loss: 0.0566 - accuracy: 0.9905 - val_loss: 0.0759 - val_accuracy: 0.9778\n",
            "Epoch 152/200\n",
            "4/4 [==============================] - 0s 13ms/step - loss: 0.0478 - accuracy: 0.9810 - val_loss: 0.1743 - val_accuracy: 0.8889\n",
            "Epoch 153/200\n",
            "4/4 [==============================] - 0s 13ms/step - loss: 0.0939 - accuracy: 0.9524 - val_loss: 0.1144 - val_accuracy: 0.9333\n",
            "Epoch 154/200\n",
            "4/4 [==============================] - 0s 17ms/step - loss: 0.0621 - accuracy: 0.9905 - val_loss: 0.0774 - val_accuracy: 0.9556\n",
            "Epoch 155/200\n",
            "4/4 [==============================] - 0s 18ms/step - loss: 0.0514 - accuracy: 0.9905 - val_loss: 0.0897 - val_accuracy: 0.9556\n",
            "Epoch 156/200\n",
            "4/4 [==============================] - 0s 13ms/step - loss: 0.0520 - accuracy: 0.9905 - val_loss: 0.0849 - val_accuracy: 0.9556\n",
            "Epoch 157/200\n",
            "4/4 [==============================] - 0s 13ms/step - loss: 0.0449 - accuracy: 0.9905 - val_loss: 0.0824 - val_accuracy: 0.9556\n",
            "Epoch 158/200\n",
            "4/4 [==============================] - 0s 18ms/step - loss: 0.0650 - accuracy: 0.9810 - val_loss: 0.0728 - val_accuracy: 0.9778\n",
            "Epoch 159/200\n",
            "4/4 [==============================] - 0s 18ms/step - loss: 0.0496 - accuracy: 0.9905 - val_loss: 0.1101 - val_accuracy: 0.9333\n",
            "Epoch 160/200\n",
            "4/4 [==============================] - 0s 12ms/step - loss: 0.0670 - accuracy: 0.9619 - val_loss: 0.0809 - val_accuracy: 0.9333\n",
            "Epoch 161/200\n",
            "4/4 [==============================] - 0s 13ms/step - loss: 0.0595 - accuracy: 0.9905 - val_loss: 0.0859 - val_accuracy: 0.9556\n",
            "Epoch 162/200\n",
            "4/4 [==============================] - 0s 12ms/step - loss: 0.0604 - accuracy: 0.9905 - val_loss: 0.0723 - val_accuracy: 0.9778\n",
            "Epoch 163/200\n",
            "4/4 [==============================] - 0s 20ms/step - loss: 0.0588 - accuracy: 0.9714 - val_loss: 0.0855 - val_accuracy: 0.9556\n",
            "Epoch 164/200\n",
            "4/4 [==============================] - 0s 18ms/step - loss: 0.0430 - accuracy: 0.9905 - val_loss: 0.0746 - val_accuracy: 0.9556\n",
            "Epoch 165/200\n",
            "4/4 [==============================] - 0s 12ms/step - loss: 0.0575 - accuracy: 0.9810 - val_loss: 0.0703 - val_accuracy: 0.9778\n",
            "Epoch 166/200\n",
            "4/4 [==============================] - 0s 12ms/step - loss: 0.0498 - accuracy: 0.9905 - val_loss: 0.0851 - val_accuracy: 0.9556\n",
            "Epoch 167/200\n",
            "4/4 [==============================] - 0s 12ms/step - loss: 0.0520 - accuracy: 0.9810 - val_loss: 0.0858 - val_accuracy: 0.9556\n",
            "Epoch 168/200\n",
            "4/4 [==============================] - 0s 15ms/step - loss: 0.0455 - accuracy: 0.9905 - val_loss: 0.0693 - val_accuracy: 0.9778\n",
            "Epoch 169/200\n",
            "4/4 [==============================] - 0s 13ms/step - loss: 0.0496 - accuracy: 0.9905 - val_loss: 0.0697 - val_accuracy: 0.9778\n",
            "Epoch 170/200\n",
            "4/4 [==============================] - 0s 19ms/step - loss: 0.0510 - accuracy: 0.9905 - val_loss: 0.0707 - val_accuracy: 0.9778\n",
            "Epoch 171/200\n",
            "4/4 [==============================] - 0s 12ms/step - loss: 0.0478 - accuracy: 0.9905 - val_loss: 0.0749 - val_accuracy: 0.9778\n",
            "Epoch 172/200\n",
            "4/4 [==============================] - 0s 12ms/step - loss: 0.0489 - accuracy: 0.9905 - val_loss: 0.0747 - val_accuracy: 0.9778\n",
            "Epoch 173/200\n",
            "4/4 [==============================] - 0s 12ms/step - loss: 0.0465 - accuracy: 0.9905 - val_loss: 0.0713 - val_accuracy: 0.9778\n",
            "Epoch 174/200\n",
            "4/4 [==============================] - 0s 13ms/step - loss: 0.0480 - accuracy: 0.9905 - val_loss: 0.0704 - val_accuracy: 0.9778\n",
            "Epoch 175/200\n",
            "4/4 [==============================] - 0s 13ms/step - loss: 0.0477 - accuracy: 0.9905 - val_loss: 0.0689 - val_accuracy: 0.9778\n",
            "Epoch 176/200\n",
            "4/4 [==============================] - 0s 13ms/step - loss: 0.0504 - accuracy: 0.9905 - val_loss: 0.0790 - val_accuracy: 0.9556\n",
            "Epoch 177/200\n",
            "4/4 [==============================] - 0s 19ms/step - loss: 0.0481 - accuracy: 0.9905 - val_loss: 0.0968 - val_accuracy: 0.9556\n",
            "Epoch 178/200\n",
            "4/4 [==============================] - 0s 13ms/step - loss: 0.0605 - accuracy: 0.9619 - val_loss: 0.1441 - val_accuracy: 0.9111\n",
            "Epoch 179/200\n",
            "4/4 [==============================] - 0s 15ms/step - loss: 0.0523 - accuracy: 0.9810 - val_loss: 0.0685 - val_accuracy: 0.9778\n",
            "Epoch 180/200\n",
            "4/4 [==============================] - 0s 14ms/step - loss: 0.0607 - accuracy: 0.9810 - val_loss: 0.0748 - val_accuracy: 0.9556\n",
            "Epoch 181/200\n",
            "4/4 [==============================] - 0s 13ms/step - loss: 0.0620 - accuracy: 0.9905 - val_loss: 0.0739 - val_accuracy: 0.9778\n",
            "Epoch 182/200\n",
            "4/4 [==============================] - 0s 13ms/step - loss: 0.0470 - accuracy: 0.9905 - val_loss: 0.0724 - val_accuracy: 0.9778\n",
            "Epoch 183/200\n",
            "4/4 [==============================] - 0s 13ms/step - loss: 0.0514 - accuracy: 0.9905 - val_loss: 0.0727 - val_accuracy: 0.9778\n",
            "Epoch 184/200\n",
            "4/4 [==============================] - 0s 17ms/step - loss: 0.0516 - accuracy: 0.9810 - val_loss: 0.0878 - val_accuracy: 0.9556\n",
            "Epoch 185/200\n",
            "4/4 [==============================] - 0s 13ms/step - loss: 0.0484 - accuracy: 0.9810 - val_loss: 0.0698 - val_accuracy: 0.9778\n",
            "Epoch 186/200\n",
            "4/4 [==============================] - 0s 13ms/step - loss: 0.0531 - accuracy: 0.9810 - val_loss: 0.0892 - val_accuracy: 0.9556\n",
            "Epoch 187/200\n",
            "4/4 [==============================] - 0s 18ms/step - loss: 0.0619 - accuracy: 0.9810 - val_loss: 0.0729 - val_accuracy: 0.9778\n",
            "Epoch 188/200\n",
            "4/4 [==============================] - 0s 18ms/step - loss: 0.0429 - accuracy: 0.9905 - val_loss: 0.1494 - val_accuracy: 0.9111\n",
            "Epoch 189/200\n",
            "4/4 [==============================] - 0s 13ms/step - loss: 0.0648 - accuracy: 0.9619 - val_loss: 0.1404 - val_accuracy: 0.9111\n",
            "Epoch 190/200\n",
            "4/4 [==============================] - 0s 13ms/step - loss: 0.0582 - accuracy: 0.9714 - val_loss: 0.0768 - val_accuracy: 0.9556\n",
            "Epoch 191/200\n",
            "4/4 [==============================] - 0s 18ms/step - loss: 0.0575 - accuracy: 0.9810 - val_loss: 0.0746 - val_accuracy: 0.9556\n",
            "Epoch 192/200\n",
            "4/4 [==============================] - 0s 13ms/step - loss: 0.0531 - accuracy: 0.9905 - val_loss: 0.0956 - val_accuracy: 0.9556\n",
            "Epoch 193/200\n",
            "4/4 [==============================] - 0s 13ms/step - loss: 0.0502 - accuracy: 0.9905 - val_loss: 0.0837 - val_accuracy: 0.9556\n",
            "Epoch 194/200\n",
            "4/4 [==============================] - 0s 14ms/step - loss: 0.0463 - accuracy: 0.9905 - val_loss: 0.0773 - val_accuracy: 0.9556\n",
            "Epoch 195/200\n",
            "4/4 [==============================] - 0s 13ms/step - loss: 0.0448 - accuracy: 0.9905 - val_loss: 0.0792 - val_accuracy: 0.9556\n",
            "Epoch 196/200\n",
            "4/4 [==============================] - 0s 16ms/step - loss: 0.0449 - accuracy: 0.9905 - val_loss: 0.0717 - val_accuracy: 0.9778\n",
            "Epoch 197/200\n",
            "4/4 [==============================] - 0s 18ms/step - loss: 0.0495 - accuracy: 0.9905 - val_loss: 0.0760 - val_accuracy: 0.9556\n",
            "Epoch 198/200\n",
            "4/4 [==============================] - 0s 14ms/step - loss: 0.0555 - accuracy: 0.9810 - val_loss: 0.0710 - val_accuracy: 0.9778\n",
            "Epoch 199/200\n",
            "4/4 [==============================] - 0s 21ms/step - loss: 0.0529 - accuracy: 0.9810 - val_loss: 0.1130 - val_accuracy: 0.9333\n",
            "Epoch 200/200\n",
            "4/4 [==============================] - 0s 20ms/step - loss: 0.0496 - accuracy: 0.9714 - val_loss: 0.0789 - val_accuracy: 0.9556\n"
          ]
        }
      ]
    },
    {
      "cell_type": "code",
      "source": [
        "plt.plot(history.history['accuracy'], label='accuracy')\n",
        "plt.plot(history.history['val_accuracy'], label='val_accuracy')\n",
        "plt.xlabel('Epoch')\n",
        "plt.ylabel('Accuracy')\n",
        "plt.legend(loc='lower right')"
      ],
      "metadata": {
        "id": "43JkJoBVaD-y",
        "colab": {
          "base_uri": "https://localhost:8080/",
          "height": 466
        },
        "outputId": "6cda5465-9568-414e-b51b-3f396b81dce1"
      },
      "execution_count": null,
      "outputs": [
        {
          "output_type": "execute_result",
          "data": {
            "text/plain": [
              "<matplotlib.legend.Legend at 0x7f41e112d060>"
            ]
          },
          "metadata": {},
          "execution_count": 21
        },
        {
          "output_type": "display_data",
          "data": {
            "text/plain": [
              "<Figure size 640x480 with 1 Axes>"
            ],
            "image/png": "[encoded data removed]"
          },
          "metadata": {}
        }
      ]
    },
    {
      "cell_type": "code",
      "source": [
        "plt.plot(history.history['loss'], label='loss')\n",
        "plt.xlabel('Epoch')\n",
        "plt.ylabel('loss')\n",
        "plt.legend(loc='upper right')"
      ],
      "metadata": {
        "id": "4EeuKBvvfu0W",
        "colab": {
          "base_uri": "https://localhost:8080/",
          "height": 466
        },
        "outputId": "cdf587dc-4e2d-4ff5-cb4b-0b11ec0ebdaa"
      },
      "execution_count": null,
      "outputs": [
        {
          "output_type": "execute_result",
          "data": {
            "text/plain": [
              "<matplotlib.legend.Legend at 0x7f41e112d2d0>"
            ]
          },
          "metadata": {},
          "execution_count": 22
        },
        {
          "output_type": "display_data",
          "data": {
            "text/plain": [
              "<Figure size 640x480 with 1 Axes>"
            ],
            "image/png": "[encoded data removed]"
          },
          "metadata": {}
        }
      ]
    }
  ]
}